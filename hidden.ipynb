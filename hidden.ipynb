{
 "cells": [
  {
   "cell_type": "code",
   "execution_count": 1,
   "id": "c609cf9f",
   "metadata": {
    "collapsed": true
   },
   "outputs": [
    {
     "ename": "KeyboardInterrupt",
     "evalue": "",
     "output_type": "error",
     "traceback": [
      "\u001b[1;31m---------------------------------------------------------------------------\u001b[0m",
      "\u001b[1;31mKeyboardInterrupt\u001b[0m                         Traceback (most recent call last)",
      "Cell \u001b[1;32mIn[1], line 15\u001b[0m\n\u001b[0;32m     12\u001b[0m _, frame \u001b[38;5;241m=\u001b[39m cap\u001b[38;5;241m.\u001b[39mread()\n\u001b[0;32m     13\u001b[0m gray_frame\u001b[38;5;241m=\u001b[39mcv2\u001b[38;5;241m.\u001b[39mcvtColor(frame, cv2\u001b[38;5;241m.\u001b[39mCOLOR_BGR2GRAY)\n\u001b[1;32m---> 15\u001b[0m faces \u001b[38;5;241m=\u001b[39m detector(frame)\n\u001b[0;32m     16\u001b[0m \u001b[38;5;28;01mfor\u001b[39;00m face \u001b[38;5;129;01min\u001b[39;00m faces:\n\u001b[0;32m     17\u001b[0m   \u001b[38;5;66;03m#  print(face)\u001b[39;00m\n\u001b[0;32m     18\u001b[0m     landmarks\u001b[38;5;241m=\u001b[39mpredictor(gray_frame, face)\n",
      "\u001b[1;31mKeyboardInterrupt\u001b[0m: "
     ]
    }
   ],
   "source": [
    "import cv2\n",
    "import numpy\n",
    "import dlib\n",
    "from math import hypot\n",
    "\n",
    "cap = cv2.VideoCapture(0)\n",
    "nose_image = cv2.imread(\"Pig_Nose_Emoji_grande.webp\")\n",
    "\n",
    "detector = dlib.get_frontal_face_detector()\n",
    "predictor = dlib.shape_predictor(\"shape_predictor_68_face_landmarks (1).dat\")\n",
    "while True:\n",
    "    _, frame = cap.read()\n",
    "    gray_frame=cv2.cvtColor(frame, cv2.COLOR_BGR2GRAY)\n",
    "    \n",
    "    faces = detector(frame)\n",
    "    for face in faces:\n",
    "      #  print(face)\n",
    "        landmarks=predictor(gray_frame, face)\n",
    "        \n",
    "        top_nose = landmarks.part(29).x, landmarks.part(29).y\n",
    "        centre_nose = (landmarks.part(30).x, landmarks.part(30).y)\n",
    "        left_nose = landmarks.part(31).x, landmarks.part(31).y\n",
    "        right_nose = landmarks.part(35).x, landmarks.part(35).y\n",
    "        \n",
    "        nose_width=int(hypot(left_nose[0] - right_nose[0],left_nose[1]- right_nose[1]) * 1.7)\n",
    "       # cv2.circle(frame, top_nose, 30, (255, 0, 0), -1)\n",
    "        nose_height = int(nose_width * 1)\n",
    "        \n",
    "        top_left = (int(centre_nose[0] - nose_width /2),int(centre_nose[1] - nose_height /2))\n",
    "        bottom_right = (int(centre_nose[0] + nose_width/2),int(centre_nose[1] + nose_height/2))\n",
    "\n",
    "      #  print(nose_width)\n",
    "       # print(nose_height)\n",
    "        nose_pig = cv2.resize(nose_image,(nose_width, nose_height))\n",
    "        nose_pig_gray = cv2.cvtColor(nose_pig, cv2.COLOR_BGR2GRAY)\n",
    "        _, nose_mask = cv2.threshold(nose_pig_gray, 25,255, cv2.THRESH_BINARY_INV)\n",
    "        \n",
    "        nose_area= frame[top_left[1]: top_left[1] + nose_height,top_left[0]: top_left[0] + nose_width]\n",
    "        \n",
    "        nose_area_no_nose = cv2.bitwise_and(nose_area, nose_area, mask=nose_mask)\n",
    "        final_nose = cv2.add(nose_area_no_nose, nose_pig)\n",
    "        \n",
    "        frame[top_left[1]: top_left[1] + nose_height,top_left[0]: top_left[0] + nose_width] = final_nose\n",
    "        \n",
    "        cv2.imshow(\"Nose area\", nose_area)   \n",
    "        cv2.imshow(\"Nose pig\", nose_pig) \n",
    "        cv2.imshow(\"Nose mask\", final_nose) \n",
    "        \n",
    "        \n",
    "    cv2.imshow(\"Frame\", frame)\n",
    "   # cv2.imshow(\"Pig Nose Emoji grande\", nose_pig)\n",
    "    \n",
    "    \n",
    "    key =cv2.waitKey(1)\n",
    "    if key ==27:\n",
    "        break\n"
   ]
  },
  {
   "cell_type": "code",
   "execution_count": null,
   "id": "8f4b3e26",
   "metadata": {},
   "outputs": [],
   "source": []
  }
 ],
 "metadata": {
  "kernelspec": {
   "display_name": "Python 3 (ipykernel)",
   "language": "python",
   "name": "python3"
  },
  "language_info": {
   "codemirror_mode": {
    "name": "ipython",
    "version": 3
   },
   "file_extension": ".py",
   "mimetype": "text/x-python",
   "name": "python",
   "nbconvert_exporter": "python",
   "pygments_lexer": "ipython3",
   "version": "3.11.5"
  }
 },
 "nbformat": 4,
 "nbformat_minor": 5
}
